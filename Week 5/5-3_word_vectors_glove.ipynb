{
 "cells": [
  {
   "cell_type": "markdown",
   "metadata": {},
   "source": [
    "This exercise is the first assignment from [CS 224N](https://web.stanford.edu/class/archive/cs/cs224n/cs224n.1244/), taught in Winter 2024 at Stanford University. "
   ]
  },
  {
   "cell_type": "markdown",
   "metadata": {},
   "source": [
    "IF YOU TRY TO RUN THIS CODE, YOU MIGHT RUN INTO ISSUES WITH OUR PYTHON ENVIRONMENT AND NUMPY. EITHER RUN IT ON GOOGLE COLAB OR CREATE A NEW ENVIRONMENT, LIKE THIS:\n",
    "\n",
    "name: cs224n\n",
    "channels:\n",
    "  - defaults\n",
    "  - anaconda\n",
    "dependencies:\n",
    "  - jupyter\n",
    "  - matplotlib\n",
    "  - numpy\n",
    "  - python>=3.8\n",
    "  - ipykernel\n",
    "  - scikit-learn\n",
    "  - nltk\n",
    "  - gensim"
   ]
  },
  {
   "cell_type": "code",
   "execution_count": 15,
   "metadata": {
    "colab": {
     "base_uri": "https://localhost:8080/"
    },
    "id": "8AGQxROrSStf",
    "outputId": "45390a52-8c82-466d-dcf3-d5b355f14aa4"
   },
   "outputs": [
    {
     "name": "stderr",
     "output_type": "stream",
     "text": [
      "[nltk_data] Downloading package reuters to\n",
      "[nltk_data]     /Users/mervetekgurler/nltk_data...\n",
      "[nltk_data]   Package reuters is already up-to-date!\n"
     ]
    }
   ],
   "source": [
    "import sys\n",
    "assert sys.version_info[0] == 3\n",
    "assert sys.version_info[1] >= 8\n",
    "\n",
    "from platform import python_version\n",
    "assert int(python_version().split(\".\")[1]) >= 5, \"Please upgrade your Python version following the instructions in \\\n",
    "    the README.md file found in the same directory as this notebook. Your Python version is \" + python_version()\n",
    "\n",
    "from gensim.models import KeyedVectors\n",
    "from gensim.test.utils import datapath\n",
    "import pprint\n",
    "import matplotlib.pyplot as plt\n",
    "plt.rcParams['figure.figsize'] = [10, 5]\n",
    "\n",
    "import nltk\n",
    "nltk.download('reuters') #to specify download location, optionally add the argument: download_dir='/specify/desired/path/'\n",
    "from nltk.corpus import reuters\n",
    "\n",
    "import numpy as np\n",
    "import random\n",
    "import scipy as sp\n",
    "from sklearn.decomposition import TruncatedSVD\n",
    "from sklearn.decomposition import PCA\n",
    "\n",
    "START_TOKEN = '<START>'\n",
    "END_TOKEN = '<END>'\n",
    "\n",
    "np.random.seed(0)\n",
    "random.seed(0)\n",
    "# ----------------"
   ]
  },
  {
   "cell_type": "markdown",
   "metadata": {
    "id": "SICd5IedSSto"
   },
   "source": [
    "## Word Vectors\n",
    "\n",
    "Word Vectors are often used as a fundamental component for downstream NLP tasks, e.g. question answering, text generation, translation, etc., so it is important to build some intuitions as to their strengths and weaknesses. Here, you will explore two types of word vectors: those derived from *co-occurrence matrices*, and those derived via *GloVe*. \n",
    "\n",
    "**Note on Terminology:** The terms \"word vectors\" and \"word embeddings\" are often used interchangeably. The term \"embedding\" refers to the fact that we are encoding aspects of a word's meaning in a lower dimensional space. As [Wikipedia](https://en.wikipedia.org/wiki/Word_embedding) states, \"*conceptually it involves a mathematical embedding from a space with one dimension per word to a continuous vector space with a much lower dimension*\"."
   ]
  },
  {
   "cell_type": "code",
   "execution_count": 16,
   "metadata": {
    "id": "xwD2htUoSStw"
   },
   "outputs": [],
   "source": [
    "def read_corpus(category=\"gold\"):\n",
    "    \"\"\" Read files from the specified Reuter's category.\n",
    "        Params:\n",
    "            category (string): category name\n",
    "        Return:\n",
    "            list of lists, with words from each of the processed files\n",
    "    \"\"\"\n",
    "    files = reuters.fileids(category)\n",
    "    return [[START_TOKEN] + [w.lower() for w in list(reuters.words(f))] + \\\n",
    "            [END_TOKEN] for f in files]\n"
   ]
  },
  {
   "cell_type": "markdown",
   "metadata": {
    "id": "hVLquFhjSStx"
   },
   "source": [
    "Let's have a look what these documents are like…."
   ]
  },
  {
   "cell_type": "code",
   "execution_count": 17,
   "metadata": {
    "colab": {
     "base_uri": "https://localhost:8080/"
    },
    "id": "mC7B9Cb-SSty",
    "outputId": "a1861c4f-723a-4d99-98d9-5f5db3a92e7a"
   },
   "outputs": [
    {
     "name": "stdout",
     "output_type": "stream",
     "text": [
      "[['<START>', 'western', 'mining', 'to', 'open', 'new', 'gold', 'mine', 'in', 'australia', 'western',\n",
      "  'mining', 'corp', 'holdings', 'ltd', '&', 'lt', ';', 'wmng', '.', 's', '>', '(', 'wmc', ')',\n",
      "  'said', 'it', 'will', 'establish', 'a', 'new', 'joint', 'venture', 'gold', 'mine', 'in', 'the',\n",
      "  'northern', 'territory', 'at', 'a', 'cost', 'of', 'about', '21', 'mln', 'dlrs', '.', 'the',\n",
      "  'mine', ',', 'to', 'be', 'known', 'as', 'the', 'goodall', 'project', ',', 'will', 'be', 'owned',\n",
      "  '60', 'pct', 'by', 'wmc', 'and', '40', 'pct', 'by', 'a', 'local', 'w', '.', 'r', '.', 'grace',\n",
      "  'and', 'co', '&', 'lt', ';', 'gra', '>', 'unit', '.', 'it', 'is', 'located', '30', 'kms', 'east',\n",
      "  'of', 'the', 'adelaide', 'river', 'at', 'mt', '.', 'bundey', ',', 'wmc', 'said', 'in', 'a',\n",
      "  'statement', 'it', 'said', 'the', 'open', '-', 'pit', 'mine', ',', 'with', 'a', 'conventional',\n",
      "  'leach', 'treatment', 'plant', ',', 'is', 'expected', 'to', 'produce', 'about', '50', ',', '000',\n",
      "  'ounces', 'of', 'gold', 'in', 'its', 'first', 'year', 'of', 'production', 'from', 'mid', '-',\n",
      "  '1988', '.', 'annual', 'ore', 'capacity', 'will', 'be', 'about', '750', ',', '000', 'tonnes', '.',\n",
      "  '<END>'],\n",
      " ['<START>', 'belgium', 'to', 'issue', 'gold', 'warrants', ',', 'sources', 'say', 'belgium',\n",
      "  'plans', 'to', 'issue', 'swiss', 'franc', 'warrants', 'to', 'buy', 'gold', ',', 'with', 'credit',\n",
      "  'suisse', 'as', 'lead', 'manager', ',', 'market', 'sources', 'said', '.', 'no', 'confirmation',\n",
      "  'or', 'further', 'details', 'were', 'immediately', 'available', '.', '<END>'],\n",
      " ['<START>', 'belgium', 'launches', 'bonds', 'with', 'gold', 'warrants', 'the', 'kingdom', 'of',\n",
      "  'belgium', 'is', 'launching', '100', 'mln', 'swiss', 'francs', 'of', 'seven', 'year', 'notes',\n",
      "  'with', 'warrants', 'attached', 'to', 'buy', 'gold', ',', 'lead', 'mananger', 'credit', 'suisse',\n",
      "  'said', '.', 'the', 'notes', 'themselves', 'have', 'a', '3', '-', '3', '/', '8', 'pct', 'coupon',\n",
      "  'and', 'are', 'priced', 'at', 'par', '.', 'payment', 'is', 'due', 'april', '30', ',', '1987',\n",
      "  'and', 'final', 'maturity', 'april', '30', ',', '1994', '.', 'each', '50', ',', '000', 'franc',\n",
      "  'note', 'carries', '15', 'warrants', '.', 'two', 'warrants', 'are', 'required', 'to', 'allow',\n",
      "  'the', 'holder', 'to', 'buy', '100', 'grammes', 'of', 'gold', 'at', 'a', 'price', 'of', '2', ',',\n",
      "  '450', 'francs', ',', 'during', 'the', 'entire', 'life', 'of', 'the', 'bond', '.', 'the',\n",
      "  'latest', 'gold', 'price', 'in', 'zurich', 'was', '2', ',', '045', '/', '2', ',', '070', 'francs',\n",
      "  'per', '100', 'grammes', '.', '<END>']]\n"
     ]
    }
   ],
   "source": [
    "reuters_corpus = read_corpus()\n",
    "pprint.pprint(reuters_corpus[:3], compact=True, width=100)"
   ]
  },
  {
   "cell_type": "markdown",
   "metadata": {
    "id": "tfa216H1SSt0"
   },
   "source": [
    "### Question 1.1: Implement `distinct_words` [code] (2 points)\n",
    "\n",
    "Write a method to work out the distinct words (word types) that occur in the corpus.\n",
    "\n",
    "You can use `for` loops to process the input `corpus` (a list of list of strings), but try using Python list comprehensions (which are generally faster). In particular, [this](https://coderwall.com/p/rcmaea/flatten-a-list-of-lists-in-one-line-in-python) may be useful to flatten a list of lists. If you're not familiar with Python list comprehensions in general, here's [more information](https://python-3-patterns-idioms-test.readthedocs.io/en/latest/Comprehensions.html).\n",
    "\n",
    "Your returned `corpus_words` should be sorted. You can use python's `sorted` function for this.\n",
    "\n",
    "You may find it useful to use [Python sets](https://www.w3schools.com/python/python_sets.asp) to remove duplicate words."
   ]
  },
  {
   "cell_type": "code",
   "execution_count": 18,
   "metadata": {
    "id": "NjJABbVFSSt1"
   },
   "outputs": [],
   "source": [
    "def distinct_words(corpus):\n",
    "    \"\"\" Determine a list of distinct words for the corpus.\n",
    "        Params:\n",
    "            corpus (list of list of strings): corpus of documents\n",
    "        Return:\n",
    "            corpus_words (list of strings): sorted list of distinct words across the corpus\n",
    "            n_corpus_words (integer): number of distinct words across the corpus\n",
    "    \"\"\"\n",
    "    distinct_words = {word for document in corpus for word in document}\n",
    "\n",
    "    corpus_words = sorted(distinct_words)\n",
    "    n_corpus_words = len(corpus_words)\n",
    "\n",
    "    return corpus_words, n_corpus_words"
   ]
  },
  {
   "cell_type": "markdown",
   "metadata": {},
   "source": [
    "Set comprehension inspo: https://medium.com/swlh/set-comprehension-in-python3-for-beginners-80561a9b4007"
   ]
  },
  {
   "cell_type": "markdown",
   "metadata": {
    "id": "ymDFJn_lSSt5"
   },
   "source": [
    "### Question 1.2: Implement `compute_co_occurrence_matrix` [code] (3 points)\n",
    "\n",
    "Write a method that constructs a co-occurrence matrix for a certain window-size $n$ (with a default of 4), considering words $n$ before and $n$ after the word in the center of the window. Here, we start to use `numpy (np)` to represent vectors, matrices, and tensors. If you're not familiar with NumPy, there's a NumPy tutorial in the second half of this cs231n [Python NumPy tutorial](http://cs231n.github.io/python-numpy-tutorial/).\n"
   ]
  },
  {
   "cell_type": "code",
   "execution_count": 19,
   "metadata": {
    "id": "v8MIy3KDSSt6"
   },
   "outputs": [],
   "source": [
    "def compute_co_occurrence_matrix(corpus, window_size=4):\n",
    "    \"\"\" Compute co-occurrence matrix for the given corpus and window_size (default of 4).\n",
    "    \n",
    "        Note: Each word in a document should be at the center of a window. Words near edges will have a smaller\n",
    "              number of co-occurring words.\n",
    "              \n",
    "              For example, if we take the document \"<START> All that glitters is not gold <END>\" with window size of 4,\n",
    "              \"All\" will co-occur with \"<START>\", \"that\", \"glitters\", \"is\", and \"not\".\n",
    "    \n",
    "        Params:\n",
    "            corpus (list of list of strings): corpus of documents\n",
    "            window_size (int): size of context window\n",
    "        Return:\n",
    "            M (a symmetric numpy matrix of shape (number of unique words in the corpus , number of unique words in the corpus)): \n",
    "                Co-occurence matrix of word counts. \n",
    "                The ordering of the words in the rows/columns should be the same as the ordering of the words given by the distinct_words function.\n",
    "            word2ind (dict): dictionary that maps word to index (i.e. row/column number) for matrix M.\n",
    "    \"\"\"\n",
    "    words, n_words = distinct_words(corpus)\n",
    "    M = np.zeros((n_words, n_words), dtype=np.int32)\n",
    "    word2ind = {word: i for i, word in enumerate(words)}\n",
    "    \n",
    "    for document in corpus:\n",
    "        for i, word in enumerate(document):\n",
    "            word_index = word2ind[word]\n",
    "            start = max(i - window_size, 0)\n",
    "            end = min(i + window_size + 1, len(document))\n",
    "            for j in range(start, end):\n",
    "                if i != j:  # don't count the word itself\n",
    "                    window_word = document[j]\n",
    "                    window_word_index = word2ind[window_word]\n",
    "                    M[word_index, window_word_index] += 1\n",
    "\n",
    "    return M, word2ind"
   ]
  },
  {
   "cell_type": "markdown",
   "metadata": {},
   "source": [
    "References: \n",
    "https://numpy.org/doc/stable/reference/arrays.dtypes.html\n",
    "https://realpython.com/python-enumerate/\n",
    "Note to self:\n",
    "start = max(i - window_size, 0)\n",
    "end = min(i + window_size + 1, len(document))\n",
    "is to make sure that we don't go over the bounds of the matrix. if we are in word at index 1 there is only index 0 so doing -4 pushes us off. until we get to index 4 we can only start at index 0 and after that we can start at index word -4. same goes for the end. this made more sense than the suggestion here: https://edstem.org/us/courses/51053/discussion/4111545 "
   ]
  },
  {
   "cell_type": "markdown",
   "metadata": {
    "id": "K-nyJnAASSt9"
   },
   "source": [
    "### Question 1.3: Implement `reduce_to_k_dim` [code] (1 point)\n",
    "\n",
    "Construct a method that performs dimensionality reduction on the matrix to produce k-dimensional embeddings. Use SVD to take the top k components and produce a new matrix of k-dimensional embeddings. \n",
    "\n",
    "**Note:** All of numpy, scipy, and scikit-learn (`sklearn`) provide *some* implementation of SVD, but only scipy and sklearn provide an implementation of Truncated SVD, and only sklearn provides an efficient randomized algorithm for calculating large-scale Truncated SVD. So please use [sklearn.decomposition.TruncatedSVD](https://scikit-learn.org/stable/modules/generated/sklearn.decomposition.TruncatedSVD.html)."
   ]
  },
  {
   "cell_type": "code",
   "execution_count": 20,
   "metadata": {
    "id": "truGMjifSSt9"
   },
   "outputs": [],
   "source": [
    "def reduce_to_k_dim(M, k=2):\n",
    "    \"\"\" Reduce a co-occurence count matrix of dimensionality (num_corpus_words, num_corpus_words)\n",
    "        to a matrix of dimensionality (num_corpus_words, k) using the following SVD function from Scikit-Learn:\n",
    "            - http://scikit-learn.org/stable/modules/generated/sklearn.decomposition.TruncatedSVD.html\n",
    "    \n",
    "        Params:\n",
    "            M (numpy matrix of shape (number of unique words in the corpus , number of unique words in the corpus)): co-occurence matrix of word counts\n",
    "            k (int): embedding size of each word after dimension reduction\n",
    "        Return:\n",
    "            M_reduced (numpy matrix of shape (number of corpus words, k)): matrix of k-dimensioal word embeddings.\n",
    "                    In terms of the SVD from math class, this actually returns U * S\n",
    "    \"\"\"    \n",
    "    n_iters = 10    # Use this parameter in your call to `TruncatedSVD`\n",
    "    print(\"Running Truncated SVD over %i words...\" % (M.shape[0]))\n",
    "\n",
    "    svd = TruncatedSVD(n_components=k, n_iter=n_iters)\n",
    "    M_reduced = svd.fit_transform(M)\n",
    "\n",
    "    print(\"Done.\")\n",
    "    return M_reduced"
   ]
  },
  {
   "cell_type": "markdown",
   "metadata": {},
   "source": [
    "When looking through the functions in sklearn TruncatedSVD, I was not sure if I should use transform or fit_transform so I asked ChatGPT and got this answer (here abbrevated):\n",
    "\"Use fit_transform when you are applying a dimensionality reduction technique for the first time on your dataset. This ensures that the method learns the parameters from your specific dataset and then applies the transformation.\""
   ]
  },
  {
   "cell_type": "markdown",
   "metadata": {
    "id": "apZknsLoSSt_"
   },
   "source": [
    "### Question 1.4: Implement `plot_embeddings` [code] (1 point)\n",
    "\n",
    "Here you will write a function to plot a set of 2D vectors in 2D space. For graphs, we will use Matplotlib (`plt`).\n",
    "\n",
    "For this example, you may find it useful to adapt [this code](http://web.archive.org/web/20190924160434/https://www.pythonmembers.club/2018/05/08/matplotlib-scatter-plot-annotate-set-text-at-label-each-point/). In the future, a good way to make a plot is to look at [the Matplotlib gallery](https://matplotlib.org/gallery/index.html), find a plot that looks somewhat like what you want, and adapt the code they give."
   ]
  },
  {
   "cell_type": "code",
   "execution_count": 21,
   "metadata": {
    "id": "dDcCZE5lSSuA"
   },
   "outputs": [],
   "source": [
    "def plot_embeddings(M_reduced, word2ind, words):\n",
    "    \"\"\" Plot in a scatterplot the embeddings of the words specified in the list \"words\".\n",
    "        NOTE: do not plot all the words listed in M_reduced / word2ind.\n",
    "        Include a label next to each point.\n",
    "        \n",
    "        Params:\n",
    "            M_reduced (numpy matrix of shape (number of unique words in the corpus , 2)): matrix of 2-dimensioal word embeddings\n",
    "            word2ind (dict): dictionary that maps word to indices for matrix M\n",
    "            words (list of strings): words whose embeddings we want to visualize\n",
    "    \"\"\"\n",
    "    for word in words:\n",
    "        if word in word2ind:\n",
    "            word_index = word2ind[word]\n",
    "            x, y = M_reduced[word_index]\n",
    "            plt.scatter(x, y, marker='x', color='red')\n",
    "            plt.text(x, y, word, fontsize=9)\n",
    "    plt.show()"
   ]
  },
  {
   "cell_type": "markdown",
   "metadata": {},
   "source": [
    "I used the code from the suggested plot example but this plt.text(x+0.3, y+0.3, type, fontsize=9) does not work because it is moving the labels too far from the points."
   ]
  },
  {
   "cell_type": "markdown",
   "metadata": {
    "id": "YpBzYs2hSSuC"
   },
   "source": [
    "### Question 1.5: Co-Occurrence Plot Analysis [written] (3 points)\n",
    "\n",
    "Now we will put together all the parts you have written! We will compute the co-occurrence matrix with fixed window of 4 (the default window size), over the Reuters \"gold\" corpus. Then we will use TruncatedSVD to compute 2-dimensional embeddings of each word. TruncatedSVD returns U\\*S, so we need to normalize the returned vectors, so that all the vectors will appear around the unit circle (therefore closeness is directional closeness). **Note**: The line of code below that does the normalizing uses the NumPy concept of *broadcasting*. If you don't know about broadcasting, check out\n",
    "[Computation on Arrays: Broadcasting by Jake VanderPlas](https://jakevdp.github.io/PythonDataScienceHandbook/02.05-computation-on-arrays-broadcasting.html).\n",
    "\n",
    "Run the below cell to produce the plot. It'll probably take a few seconds to run."
   ]
  },
  {
   "cell_type": "code",
   "execution_count": 22,
   "metadata": {
    "colab": {
     "base_uri": "https://localhost:8080/",
     "height": 355
    },
    "id": "7L1Uk50mSSuD",
    "outputId": "35ae3e41-07c8-421b-e75c-dcbeaa4fb015"
   },
   "outputs": [
    {
     "name": "stdout",
     "output_type": "stream",
     "text": [
      "Running Truncated SVD over 2830 words...\n",
      "Done.\n"
     ]
    },
    {
     "data": {
      "image/png": "[encoded data removed]",
      "text/plain": [
       "<Figure size 1000x500 with 1 Axes>"
      ]
     },
     "metadata": {},
     "output_type": "display_data"
    }
   ],
   "source": [
    "# -----------------------------\n",
    "# Run This Cell to Produce Your Plot\n",
    "# ------------------------------\n",
    "reuters_corpus = read_corpus()\n",
    "M_co_occurrence, word2ind_co_occurrence = compute_co_occurrence_matrix(reuters_corpus)\n",
    "M_reduced_co_occurrence = reduce_to_k_dim(M_co_occurrence, k=2)\n",
    "\n",
    "# Rescale (normalize) the rows to make them each of unit-length\n",
    "M_lengths = np.linalg.norm(M_reduced_co_occurrence, axis=1)\n",
    "M_normalized = M_reduced_co_occurrence / M_lengths[:, np.newaxis] # broadcasting\n",
    "\n",
    "words = ['value', 'gold', 'platinum', 'reserves', 'silver', 'metals', 'copper', 'belgium', 'australia', 'china', 'grammes', \"mine\"]\n",
    "\n",
    "plot_embeddings(M_normalized, word2ind_co_occurrence, words)"
   ]
  },
  {
   "cell_type": "markdown",
   "metadata": {
    "id": "_h0OzAaRSSuI"
   },
   "source": [
    "## Part 2: Prediction-Based Word Vectors (15 points)\n",
    "\n",
    "As discussed in class, more recently prediction-based word vectors have demonstrated better performance, such as word2vec and GloVe (which also utilizes the benefit of counts). Here, we shall explore the embeddings produced by GloVe. Please revisit the class notes and lecture slides for more details on the word2vec and GloVe algorithms. If you're feeling adventurous, challenge yourself and try reading [GloVe's original paper](https://nlp.stanford.edu/pubs/glove.pdf).\n",
    "\n",
    "Then run the following cells to load the GloVe vectors into memory. **Note**: If this is your first time to run these cells, i.e. download the embedding model, it will take a couple minutes to run. If you've run these cells before, rerunning them will load the model without redownloading it, which will take about 1 to 2 minutes."
   ]
  },
  {
   "cell_type": "code",
   "execution_count": 12,
   "metadata": {
    "colab": {
     "base_uri": "https://localhost:8080/"
    },
    "id": "l3kwvdksSSuI",
    "outputId": "736a4672-4b59-4c2e-d6e6-b16e4548db30"
   },
   "outputs": [
    {
     "name": "stdout",
     "output_type": "stream",
     "text": [
      "Loaded vocab size 400000\n"
     ]
    }
   ],
   "source": [
    "def load_embedding_model():\n",
    "    \"\"\" Load GloVe Vectors\n",
    "        Return:\n",
    "            wv_from_bin: All 400000 embeddings, each lengh 200\n",
    "    \"\"\"\n",
    "    import gensim.downloader as api\n",
    "    wv_from_bin = api.load(\"glove-wiki-gigaword-200\")\n",
    "    print(\"Loaded vocab size %i\" % len(list(wv_from_bin.index_to_key)))\n",
    "    return wv_from_bin\n",
    "wv_from_bin = load_embedding_model()"
   ]
  },
  {
   "cell_type": "markdown",
   "metadata": {
    "id": "egIeG1RTSSuK"
   },
   "source": [
    "#### Note: If you are receiving a \"reset by peer\" error, rerun the cell to restart the download. "
   ]
  },
  {
   "cell_type": "markdown",
   "metadata": {
    "id": "rH9gWJWpSSuL"
   },
   "source": [
    "### Reducing dimensionality of Word Embeddings\n",
    "Let's directly compare the GloVe embeddings to those of the co-occurrence matrix. In order to avoid running out of memory, we will work with a sample of 10000 GloVe vectors instead.\n",
    "Run the following cells to:\n",
    "\n",
    "1. Put 10000 Glove vectors into a matrix M\n",
    "2. Run `reduce_to_k_dim` (your Truncated SVD function) to reduce the vectors from 200-dimensional to 2-dimensional."
   ]
  },
  {
   "cell_type": "code",
   "execution_count": 13,
   "metadata": {
    "id": "0PROUu_-SSuL"
   },
   "outputs": [],
   "source": [
    "def get_matrix_of_vectors(wv_from_bin, required_words):\n",
    "    \"\"\" Put the GloVe vectors into a matrix M.\n",
    "        Param:\n",
    "            wv_from_bin: KeyedVectors object; the 400000 GloVe vectors loaded from file\n",
    "        Return:\n",
    "            M: numpy matrix shape (num words, 200) containing the vectors\n",
    "            word2ind: dictionary mapping each word to its row number in M\n",
    "    \"\"\"\n",
    "    import random\n",
    "    words = list(wv_from_bin.index_to_key)\n",
    "    print(\"Shuffling words ...\")\n",
    "    random.seed(225)\n",
    "    random.shuffle(words)\n",
    "    words = words[:10000]\n",
    "    print(\"Putting %i words into word2ind and matrix M...\" % len(words))\n",
    "    word2ind = {}\n",
    "    M = []\n",
    "    curInd = 0\n",
    "    for w in words:\n",
    "        try:\n",
    "            M.append(wv_from_bin.get_vector(w))\n",
    "            word2ind[w] = curInd\n",
    "            curInd += 1\n",
    "        except KeyError:\n",
    "            continue\n",
    "    for w in required_words:\n",
    "        if w in words:\n",
    "            continue\n",
    "        try:\n",
    "            M.append(wv_from_bin.get_vector(w))\n",
    "            word2ind[w] = curInd\n",
    "            curInd += 1\n",
    "        except KeyError:\n",
    "            continue\n",
    "    M = np.stack(M)\n",
    "    print(\"Done.\")\n",
    "    return M, word2ind"
   ]
  },
  {
   "cell_type": "code",
   "execution_count": 14,
   "metadata": {
    "colab": {
     "base_uri": "https://localhost:8080/"
    },
    "id": "cpgM0M-hSSuM",
    "outputId": "b0989be9-8e11-45d8-8ba9-47297a990760"
   },
   "outputs": [
    {
     "name": "stdout",
     "output_type": "stream",
     "text": [
      "Shuffling words ...\n",
      "Putting 10000 words into word2ind and matrix M...\n",
      "Done.\n",
      "Running Truncated SVD over 10012 words...\n",
      "Done.\n"
     ]
    }
   ],
   "source": [
    "# -----------------------------------------------------------------\n",
    "# Run Cell to Reduce 200-Dimensional Word Embeddings to k Dimensions\n",
    "# Note: This should be quick to run\n",
    "# -----------------------------------------------------------------\n",
    "M, word2ind = get_matrix_of_vectors(wv_from_bin, words)\n",
    "M_reduced = reduce_to_k_dim(M, k=2)\n",
    "\n",
    "# Rescale (normalize) the rows to make them each of unit-length\n",
    "M_lengths = np.linalg.norm(M_reduced, axis=1)\n",
    "M_reduced_normalized = M_reduced / M_lengths[:, np.newaxis] # broadcasting"
   ]
  },
  {
   "cell_type": "markdown",
   "metadata": {
    "id": "8_46FYMJSSuN"
   },
   "source": [
    "**Note: If you are receiving out of memory issues on your local machine, try closing other applications to free more memory on your device. You may want to try restarting your machine so that you can free up extra memory. Then immediately run the jupyter notebook and see if you can load the word vectors properly. If you still have problems with loading the embeddings onto your local machine after this, please go to office hours or contact course staff.**"
   ]
  },
  {
   "cell_type": "markdown",
   "metadata": {
    "id": "zAFrU8ahSSuO"
   },
   "source": [
    "### Question 2.1: GloVe Plot Analysis [written] (3 points)\n",
    "\n",
    "Run the cell below to plot the 2D GloVe embeddings for `['value', 'gold', 'platinum', 'reserves', 'silver', 'metals', 'copper', 'belgium', 'australia', 'china', 'grammes', \"mine\"]`."
   ]
  },
  {
   "cell_type": "code",
   "execution_count": 23,
   "metadata": {
    "colab": {
     "base_uri": "https://localhost:8080/",
     "height": 321
    },
    "id": "9kHRkjz6SSuO",
    "outputId": "fbe0f8af-ea5e-456d-8d75-b9ad0caaa5fc",
    "scrolled": true
   },
   "outputs": [
    {
     "data": {
      "image/png": "[encoded data removed]",
      "text/plain": [
       "<Figure size 1000x500 with 1 Axes>"
      ]
     },
     "metadata": {},
     "output_type": "display_data"
    }
   ],
   "source": [
    "words = ['value', 'gold', 'platinum', 'reserves', 'silver', 'metals', 'copper', 'belgium', 'australia', 'china', 'grammes', \"mine\"]\n",
    "\n",
    "plot_embeddings(M_reduced_normalized, word2ind, words)"
   ]
  },
  {
   "cell_type": "markdown",
   "metadata": {
    "id": "nA8oIbjjSSuS"
   },
   "source": [
    "### Cosine Similarity\n",
    "Now that we have word vectors, we need a way to quantify the similarity between individual words, according to these vectors. One such metric is cosine-similarity. We will be using this to find words that are \"close\" and \"far\" from one another.\n",
    "\n",
    "We can think of n-dimensional vectors as points in n-dimensional space. If we take this perspective [L1](http://mathworld.wolfram.com/L1-Norm.html) and [L2](http://mathworld.wolfram.com/L2-Norm.html) Distances help quantify the amount of space \"we must travel\" to get between these two points. Another approach is to examine the angle between two vectors. From trigonometry we know that:\n",
    "\n",
    "<img src=\"../img/inner_product.png\" width=20% style=\"float: center;\"></img>\n",
    "\n",
    "Instead of computing the actual angle, we can leave the similarity in terms of $similarity = cos(\\Theta)$. Formally the [Cosine Similarity](https://en.wikipedia.org/wiki/Cosine_similarity) $s$ between two vectors $p$ and $q$ is defined as:\n",
    "\n",
    "$$s = \\frac{p \\cdot q}{||p|| ||q||}, \\textrm{ where } s \\in [-1, 1] $$ "
   ]
  },
  {
   "cell_type": "markdown",
   "metadata": {
    "id": "sFfCOLUsSSuS"
   },
   "source": [
    "### Question 2.2: Words with Multiple Meanings (1.5 points) [code + written] \n",
    "Polysemes and homonyms are words that have more than one meaning (see this [wiki page](https://en.wikipedia.org/wiki/Polysemy) to learn more about the difference between polysemes and homonyms ). Find a word with *at least two different meanings* such that the top-10 most similar words (according to cosine similarity) contain related words from *both* meanings. For example, \"leaves\" has both \"go_away\" and \"a_structure_of_a_plant\" meaning in the top 10, and \"scoop\" has both \"handed_waffle_cone\" and \"lowdown\". You will probably need to try several polysemous or homonymic words before you find one. \n",
    "\n",
    "Please state the word you discover and the multiple meanings that occur in the top 10. Why do you think many of the polysemous or homonymic words you tried didn't work (i.e. the top-10 most similar words only contain **one** of the meanings of the words)?\n",
    "\n",
    "**Note**: You should use the `wv_from_bin.most_similar(word)` function to get the top 10 similar words. This function ranks all other words in the vocabulary with respect to their cosine similarity to the given word. For further assistance, please check the __[GenSim documentation](https://radimrehurek.com/gensim/models/keyedvectors.html#gensim.models.keyedvectors.FastTextKeyedVectors.most_similar)__."
   ]
  },
  {
   "cell_type": "code",
   "execution_count": 24,
   "metadata": {
    "colab": {
     "base_uri": "https://localhost:8080/"
    },
    "id": "ZAr09U-xSSuT",
    "outputId": "da8adff7-c61e-43a0-8f4b-66084b4a66b8"
   },
   "outputs": [
    {
     "name": "stdout",
     "output_type": "stream",
     "text": [
      "Top 10 similar words to 'tip':\n",
      "['tips', 'tipped', 'off', 'finger', 'tail', 'mouth', 'tipping', 'southernmost', 'corner', 'rounded']\n"
     ]
    }
   ],
   "source": [
    "# -----------------------------------------------------------------\n",
    "# Hypothesis for Polysemes (words or phrases with different, but related, senses)\n",
    "# and Homonyms (words that accidentally sound the same but are not related)\n",
    "#\n",
    "# mine, bank, lead, issue, bond, warrant, reserve, yield, credit, statement, load, cut, venture, tip\n",
    "# -----------------------------------------------------------------\n",
    "\n",
    "word = 'tip'\n",
    "top_similar = wv_from_bin.most_similar(word, topn=10)\n",
    "\n",
    "top_similar_words = [word for word, similarity in top_similar]\n",
    "print(\"Top 10 similar words to '{}':\".format(word))\n",
    "print(top_similar_words)\n"
   ]
  },
  {
   "cell_type": "markdown",
   "metadata": {},
   "source": [
    "Top 10 similar words to 'bank':\n",
    "['banks', 'banking', 'central', 'financial', 'credit', 'lending', 'monetary', 'bankers', 'loans', 'investment']\n",
    "\n",
    "Top 10 similar words to 'mine':\n",
    "['mines', 'coal', 'mining', 'miners', 'miner', 'blast', 'ore', 'explosion', 'copper', 'nickel']\n",
    "\n",
    "Top 10 similar words to 'lead':\n",
    "['leads', 'led', 'leading', 'second', 'third', 'ahead', 'advantage', 'victory', 'win', 'fourth']\n",
    "\n",
    "Top 10 similar words to 'issue':\n",
    "['issues', 'question', 'matter', 'matters', 'topic', 'debate', 'subject', 'dispute', 'questions', 'resolved']\n",
    "\n",
    "Top 10 similar words to 'bond':\n",
    "['bonds', 'treasury', 'yields', 'yield', '30-year', '10-year', 'benchmark', 'interest', 'securities', 'investors']\n",
    "\n",
    "Top 10 similar words to 'warrant':\n",
    "['warrants', 'arrest', 'extradition', 'criminal', 'charges', 'request', 'suspects', 'affidavit', 'indictment', 'prosecution']\n",
    "\n",
    "Top 10 similar words to 'reserve':\n",
    "['reserves', 'fed', 'interest', 'central', 'greenspan', 'guard', 'policymakers', 'bernanke', 'federal', 'corps']\n",
    "\n",
    "Top 10 similar words to 'yield':\n",
    "['yields', 'yielding', 'yielded', 'bond', '10-year', 'benchmark', '30-year', 'basis', 'treasury', 'bonds']\n",
    "\n",
    "Top 10 similar words to 'credit':\n",
    "['loans', 'banks', 'lending', 'debt', 'financial', 'lenders', 'mortgage', 'card', 'loan', 'bank']\n",
    "\n",
    "Top 10 similar words to 'statement':\n",
    "['saying', 'comment', 'thursday', 'statements', 'tuesday', 'wednesday', 'announcement', 'letter', 'monday', 'issued']\n",
    "\n",
    "Top 10 similar words to 'load':\n",
    "['loads', 'loading', 'loaded', 'weight', 'handle', 'unload', 'workload', 'hauling', 'carry', 'capacity']\n",
    "\n",
    "Top 10 similar words to 'cut':\n",
    "['cutting', 'cuts', 'slash', 'reduce', 'would', 'slashed', 'put', 'half', 'off', 'reduced']\n",
    "\n",
    "Top 10 similar words to 'venture':\n",
    "['ventures', 'company', 'companies', 'partners', 'firms', 'subsidiary', 'invest', 'joint', 'investment', 'firm']\n",
    "\n",
    "Top 10 similar words to 'tip':\n",
    "['tips', 'tipped', 'off', 'finger', 'tail', 'mouth', 'tipping', 'southernmost', 'corner', 'rounded']"
   ]
  },
  {
   "cell_type": "markdown",
   "metadata": {
    "id": "VfeW-eK9SSuU"
   },
   "source": [
    "### Question 2.3: Synonyms & Antonyms (2 points) [code + written] \n",
    "\n",
    "When considering Cosine Similarity, it's often more convenient to think of Cosine Distance, which is simply 1 - Cosine Similarity.\n",
    "\n",
    "Find three words $(w_1,w_2,w_3)$ where $w_1$ and $w_2$ are synonyms and $w_1$ and $w_3$ are antonyms, but Cosine Distance $(w_1,w_3) <$ Cosine Distance $(w_1,w_2)$. \n",
    "\n",
    "As an example, $w_1$=\"happy\" is closer to $w_3$=\"sad\" than to $w_2$=\"cheerful\". Please find a different example that satisfies the above. Once you have found your example, please give a possible explanation for why this counter-intuitive result may have happened.\n",
    "\n",
    "You should use the the `wv_from_bin.distance(w1, w2)` function here in order to compute the cosine distance between two words. Please see the __[GenSim documentation](https://radimrehurek.com/gensim/models/keyedvectors.html#gensim.models.keyedvectors.FastTextKeyedVectors.distance)__ for further assistance."
   ]
  },
  {
   "cell_type": "code",
   "execution_count": 89,
   "metadata": {
    "colab": {
     "base_uri": "https://localhost:8080/"
    },
    "id": "bwlpPjpHSSuV",
    "outputId": "8c983677-b3d1-4423-d31c-da566cb522a5"
   },
   "outputs": [
    {
     "name": "stdout",
     "output_type": "stream",
     "text": [
      "Did not work out\n"
     ]
    }
   ],
   "source": [
    "# ------------------\n",
    "# big, large, small\n",
    "# w1 = \"big\"\n",
    "# w2 = \"large\"\n",
    "# w3 = \"small\"\n",
    "# ------------------\n",
    "synonym = wv_from_bin.distance(\"big\", \"large\")\n",
    "antonym = wv_from_bin.distance(\"big\", \"small\")\n",
    "\n",
    "if antonym < synonym:\n",
    "    print(\"Satisfactory\")\n",
    "else:\n",
    "    print(\"Did not work out\")"
   ]
  },
  {
   "cell_type": "code",
   "execution_count": 90,
   "metadata": {
    "colab": {
     "base_uri": "https://localhost:8080/"
    },
    "id": "bwlpPjpHSSuV",
    "outputId": "8c983677-b3d1-4423-d31c-da566cb522a5"
   },
   "outputs": [
    {
     "name": "stdout",
     "output_type": "stream",
     "text": [
      "Satisfactory\n"
     ]
    }
   ],
   "source": [
    "# ------------------\n",
    "# big, large, small\n",
    "# w1 = \"large\"\n",
    "# w2 = \"big\"\n",
    "# w3 = \"small\"\n",
    "# ------------------\n",
    "synonym = wv_from_bin.distance(\"large\", \"big\")\n",
    "antonym = wv_from_bin.distance(\"large\", \"small\")\n",
    "\n",
    "if antonym < synonym:\n",
    "    print(\"Satisfactory\")\n",
    "else:\n",
    "    print(\"Did not work out\")"
   ]
  },
  {
   "cell_type": "markdown",
   "metadata": {
    "id": "ZxIDq26zSSuW"
   },
   "source": [
    "### Question 2.4: Analogies with Word Vectors [written] (1.5 points)\n",
    "Word vectors have been shown to *sometimes* exhibit the ability to solve analogies. \n",
    "\n",
    "As an example, for the analogy \"man : grandfather :: woman : x\" (read: man is to grandfather as woman is to x), what is x?\n",
    "\n",
    "In the cell below, we show you how to use word vectors to find x using the `most_similar` function from the __[GenSim documentation](https://radimrehurek.com/gensim/models/keyedvectors.html#gensim.models.keyedvectors.KeyedVectors.most_similar)__. The function finds words that are most similar to the words in the `positive` list and most dissimilar from the words in the `negative` list (while omitting the input words, which are often the most similar; see [this paper](https://www.aclweb.org/anthology/N18-2039.pdf)). The answer to the analogy will have the highest cosine similarity (largest returned numerical value)."
   ]
  },
  {
   "cell_type": "code",
   "execution_count": 25,
   "metadata": {
    "colab": {
     "base_uri": "https://localhost:8080/"
    },
    "id": "u0pC7H4VSSuY",
    "outputId": "a2e3a0c1-2621-4def-f00b-f3de583f86bf"
   },
   "outputs": [
    {
     "name": "stdout",
     "output_type": "stream",
     "text": [
      "[('grandmother', 0.7608445286750793),\n",
      " ('granddaughter', 0.7200808525085449),\n",
      " ('daughter', 0.7168302536010742),\n",
      " ('mother', 0.7151536345481873),\n",
      " ('niece', 0.7005682587623596),\n",
      " ('father', 0.6659888029098511),\n",
      " ('aunt', 0.6623408794403076),\n",
      " ('grandson', 0.6618767380714417),\n",
      " ('grandparents', 0.6446609497070312),\n",
      " ('wife', 0.6445354223251343)]\n"
     ]
    }
   ],
   "source": [
    "# Run this cell to answer the analogy -- man : grandfather :: woman : x\n",
    "pprint.pprint(wv_from_bin.most_similar(positive=['woman', 'grandfather'], negative=['man']))"
   ]
  },
  {
   "cell_type": "markdown",
   "metadata": {
    "id": "XVv8I9WwSSuZ"
   },
   "source": [
    "Let $m$, $g$, $w$, and $x$ denote the word vectors for `man`, `grandfather`, `woman`, and the answer, respectively. Using **only** vectors $m$, $g$, $w$, and the vector arithmetic operators $+$ and $-$ in your answer, what is the expression in which we are maximizing cosine similarity with $x$?\n",
    "\n",
    "Hint: Recall that word vectors are simply multi-dimensional vectors that represent a word. It might help to draw out a 2D example using arbitrary locations of each vector. Where would `man` and `woman` lie in the coordinate plane relative to `grandfather` and the answer?"
   ]
  },
  {
   "cell_type": "markdown",
   "metadata": {
    "id": "2rRgMca9SSua"
   },
   "source": [
    "### Question 2.5: Finding Analogies [code + written]  (1.5 points)\n",
    "a. For the previous example, it's clear that \"grandmother\" completes the analogy. But give an intuitive explanation as to why the `most_similar` function gives us words like \"granddaughter\", \"daughter\", or \"mother?"
   ]
  },
  {
   "cell_type": "markdown",
   "metadata": {
    "id": "p9aAUXEISSub"
   },
   "source": [
    "b. Find an example of analogy that holds according to these vectors (i.e. the intended word is ranked top). In your solution please state the full analogy in the form x:y :: a:b. If you believe the analogy is complicated, explain why the analogy holds in one or two sentences.\n",
    "\n",
    "**Note**: You may have to try many analogies to find one that works!"
   ]
  },
  {
   "cell_type": "code",
   "execution_count": 26,
   "metadata": {
    "id": "CRvYK2xifpq7"
   },
   "outputs": [
    {
     "name": "stdout",
     "output_type": "stream",
     "text": [
      "[('rome', 0.7585406303405762),\n",
      " ('milan', 0.6850501298904419),\n",
      " ('italian', 0.6647829413414001),\n",
      " ('venice', 0.6126591563224792),\n",
      " ('turin', 0.5984683036804199),\n",
      " ('florence', 0.5939043164253235),\n",
      " ('bologna', 0.5863773226737976),\n",
      " ('naples', 0.5858203172683716),\n",
      " ('prohertrib', 0.5709968209266663),\n",
      " ('genoa', 0.5506733655929565)]\n"
     ]
    }
   ],
   "source": [
    "# For example: x, y, a, b = (\"france\", \"paris\", \"italy\", \"rome\")\n",
    "# ------------------\n",
    "x, y, a, b = (\"france\", \"paris\", \"italy\", \"rome\")\n",
    "pprint.pprint(wv_from_bin.most_similar(positive=['italy', 'paris'], negative=['france']))\n",
    "\n",
    "# Test the solution\n",
    "assert wv_from_bin.most_similar(positive=[a, y], negative=[x])[0][0] == b"
   ]
  },
  {
   "cell_type": "markdown",
   "metadata": {
    "id": "SwgcEywwSSuc"
   },
   "source": [
    "### Question 2.6: Incorrect Analogy [code + written] (1.5 points)\n",
    "a. Below, we expect to see the intended analogy \"hand : glove :: foot : **sock**\", but we see an unexpected result instead. Give a potential reason as to why this particular analogy turned out the way it did?"
   ]
  },
  {
   "cell_type": "code",
   "execution_count": 27,
   "metadata": {
    "colab": {
     "base_uri": "https://localhost:8080/"
    },
    "id": "m-ykWoJoSSuc",
    "outputId": "60fa3812-3e62-429e-c309-349463c75f9e"
   },
   "outputs": [
    {
     "name": "stdout",
     "output_type": "stream",
     "text": [
      "[('45,000-square', 0.4922032058238983),\n",
      " ('15,000-square', 0.4649604558944702),\n",
      " ('10,000-square', 0.45447564125061035),\n",
      " ('6,000-square', 0.44975772500038147),\n",
      " ('3,500-square', 0.4441334009170532),\n",
      " ('700-square', 0.44257497787475586),\n",
      " ('50,000-square', 0.43563973903656006),\n",
      " ('3,000-square', 0.43486514687538147),\n",
      " ('30,000-square', 0.4330596923828125),\n",
      " ('footed', 0.43236875534057617)]\n"
     ]
    }
   ],
   "source": [
    "pprint.pprint(wv_from_bin.most_similar(positive=['foot', 'glove'], negative=['hand']))"
   ]
  },
  {
   "cell_type": "markdown",
   "metadata": {
    "id": "D1gHyZt0SSud"
   },
   "source": [
    "b. Find another example of analogy that does *not* hold according to these vectors. In your solution, state the intended analogy in the form x:y :: a:b, and state the **incorrect** value of b according to the word vectors (in the previous example, this would be **'45,000-square'**)."
   ]
  },
  {
   "cell_type": "code",
   "execution_count": 28,
   "metadata": {
    "id": "ms-DTC8_ftiA"
   },
   "outputs": [
    {
     "name": "stdout",
     "output_type": "stream",
     "text": [
      "[('puppies', 0.6142244935035706),\n",
      " ('kitten', 0.5919069647789001),\n",
      " ('kittens', 0.5758378505706787),\n",
      " ('scaredy', 0.5365902185440063),\n",
      " ('adorable', 0.5015590786933899),\n",
      " ('skinny', 0.47961774468421936),\n",
      " ('cute', 0.4787493348121643),\n",
      " ('poodle', 0.47515448927879333),\n",
      " ('purr', 0.471113383769989),\n",
      " ('feline', 0.46825292706489563)]\n"
     ]
    }
   ],
   "source": [
    "# For example: x, y, a, b = (\"dog\", \"puppy\", \"cat\", \"kitten\")\n",
    "# ------------------\n",
    "x, y, a, b = (\"dog\", \"puppy\", \"cat\", \"kitten\")\n",
    "pprint.pprint(wv_from_bin.most_similar(positive=[a, y], negative=[x]))\n",
    "assert wv_from_bin.most_similar(positive=[a, y], negative=[x])[0][0] != b"
   ]
  },
  {
   "cell_type": "markdown",
   "metadata": {
    "id": "yvlycXN-SSuf"
   },
   "source": [
    "### Question 2.7: Guided Analysis of Bias in Word Vectors [written] (1 point)\n",
    "\n",
    "It's important to be cognizant of the biases (gender, race, sexual orientation etc.) implicit in our word embeddings. Bias can be dangerous because it can reinforce stereotypes through applications that employ these models.\n",
    "\n",
    "Run the cell below, to examine (a) which terms are most similar to \"woman\" and \"profession\" and most dissimilar to \"man\", and (b) which terms are most similar to \"man\" and \"profession\" and most dissimilar to \"woman\". Point out the difference between the list of female-associated words and the list of male-associated words, and explain how it is reflecting gender bias."
   ]
  },
  {
   "cell_type": "code",
   "execution_count": 29,
   "metadata": {
    "colab": {
     "base_uri": "https://localhost:8080/"
    },
    "id": "XggWA4MhSSuf",
    "outputId": "534a694b-f4fa-479e-9e7c-12b17db3abb8"
   },
   "outputs": [
    {
     "name": "stdout",
     "output_type": "stream",
     "text": [
      "[('reputation', 0.5250177383422852),\n",
      " ('professions', 0.5178037881851196),\n",
      " ('skill', 0.49046966433525085),\n",
      " ('skills', 0.4900550842285156),\n",
      " ('ethic', 0.4897659420967102),\n",
      " ('business', 0.4875851273536682),\n",
      " ('respected', 0.485920250415802),\n",
      " ('practice', 0.482104629278183),\n",
      " ('regarded', 0.4778572618961334),\n",
      " ('life', 0.4760662019252777)]\n",
      "\n",
      "[('professions', 0.5957458019256592),\n",
      " ('practitioner', 0.4988412857055664),\n",
      " ('teaching', 0.48292145133018494),\n",
      " ('nursing', 0.48211807012557983),\n",
      " ('vocation', 0.4788965880870819),\n",
      " ('teacher', 0.47160351276397705),\n",
      " ('practicing', 0.46937811374664307),\n",
      " ('educator', 0.46524322032928467),\n",
      " ('physicians', 0.4628995656967163),\n",
      " ('professionals', 0.4601393938064575)]\n"
     ]
    }
   ],
   "source": [
    "# Run this cell\n",
    "# Here `positive` indicates the list of words to be similar to and `negative` indicates the list of words to be\n",
    "# most dissimilar from.\n",
    "\n",
    "pprint.pprint(wv_from_bin.most_similar(positive=['man', 'profession'], negative=['woman']))\n",
    "print()\n",
    "pprint.pprint(wv_from_bin.most_similar(positive=['woman', 'profession'], negative=['man']))"
   ]
  },
  {
   "cell_type": "markdown",
   "metadata": {
    "id": "LxJmnS6lSSui"
   },
   "source": [
    "### Question 2.8: Independent Analysis of Bias in Word Vectors [code + written]  (1 point)\n",
    "\n",
    "Use the `most_similar` function to find another pair of analogies that demonstrates some bias is exhibited by the vectors. Please briefly explain the example of bias that you discover."
   ]
  },
  {
   "cell_type": "code",
   "execution_count": 96,
   "metadata": {
    "colab": {
     "base_uri": "https://localhost:8080/"
    },
    "id": "PZoDheIfSSui",
    "outputId": "f45fef83-ee36-4ef1-b970-775c3b40c515"
   },
   "outputs": [
    {
     "name": "stdout",
     "output_type": "stream",
     "text": [
      "[('canada', 0.5468798279762268),\n",
      " ('ontario', 0.5077014565467834),\n",
      " ('canadians', 0.4942394196987152),\n",
      " ('immigrants', 0.49423298239707947),\n",
      " ('quebec', 0.4782276451587677),\n",
      " ('citizen', 0.4561544358730316),\n",
      " ('immigration', 0.45168033242225647),\n",
      " ('british', 0.44590088725090027),\n",
      " ('refugee', 0.43717703223228455),\n",
      " ('ottawa', 0.42669665813446045)]\n",
      "\n",
      "[('immigrants', 0.6352025270462036),\n",
      " ('undocumented', 0.5825608968734741),\n",
      " ('migrant', 0.5613870620727539),\n",
      " ('mexicans', 0.554447591304779),\n",
      " ('mexico', 0.5450621247291565),\n",
      " ('hispanic', 0.5411365032196045),\n",
      " ('migrants', 0.5258220434188843),\n",
      " ('tijuana', 0.5026392936706543),\n",
      " ('latino', 0.5002524256706238),\n",
      " ('chiapas', 0.46616122126579285)]\n"
     ]
    }
   ],
   "source": [
    "pprint.pprint(wv_from_bin.most_similar(positive=['canadian', 'immigrant'], negative=['mexican']))\n",
    "print()\n",
    "pprint.pprint(wv_from_bin.most_similar(positive=['mexican', 'immigrant'], negative=['canadian']))"
   ]
  }
 ],
 "metadata": {
  "anaconda-cloud": {},
  "colab": {
   "provenance": []
  },
  "kernelspec": {
   "display_name": "cs224n",
   "language": "python",
   "name": "python3"
  },
  "language_info": {
   "codemirror_mode": {
    "name": "ipython",
    "version": 3
   },
   "file_extension": ".py",
   "mimetype": "text/x-python",
   "name": "python",
   "nbconvert_exporter": "python",
   "pygments_lexer": "ipython3",
   "version": "3.11.7"
  }
 },
 "nbformat": 4,
 "nbformat_minor": 4
}
